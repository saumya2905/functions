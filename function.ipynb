{
  "nbformat": 4,
  "nbformat_minor": 0,
  "metadata": {
    "colab": {
      "provenance": []
    },
    "kernelspec": {
      "name": "python3",
      "display_name": "Python 3"
    },
    "language_info": {
      "name": "python"
    }
  },
  "cells": [
    {
      "cell_type": "markdown",
      "source": [
        "#Theory Question\n",
        "Ques-1 What is the difference between a function and a method in python ?\n",
        "Answer- In Python, methods and fuctions have similar purposes but differ in important ways. Functions are independent blocks of code that can be called from everywhere, while methods are tied to objects or classes and need an object or class instance to be invoked.\n",
        "\n",
        "Ques-2 Explain the concept of fuction arguments and parameters in python?\n",
        "Anser- Function arguments and parameters are related concepts that help you pass data into functions.\n",
        "parameters are variables that are listed inside the fuction definition. They act as placeholders for the valuess that will be passed to the function. Arguments are the actual values you pass to function when you call it.\n",
        "\n",
        "Ques-3 What are the different ways to deefine and call a fuction in python?\n",
        "Answer-To define and call a function in Python, you can use the following steps:\n",
        "Define the function: Use the keyword def to declare the function, followed by the function name and parentheses.\n",
        "For example, def greet(name):.\n",
        "Add parameters: Add parameters to the function within the parentheses. You can add as many parameters as you want, separating them with commas.\n",
        "End with a colon: End the line with a colon.\n",
        "Indent the function body: Indent the code block that makes up the function beneath the def statement.\n",
        "Add statements: Add statements that the function should execute.\n",
        "Add a return statement: If the function should output something, end the function with a return statement.\n",
        "Call the function: To call the function, type its name followed by any required parameters in parentheses. For example, greet(\"Saumya\").\n",
        "\n",
        "Ques-4 What is the purpose of the 'return' statement in a python function?\n",
        "Answer- The purpose of the return statement in a Python function is to end the function's execution and return a value to the caller:\n",
        "Ends the functions: The return statement ends the execution of the function and returns control to the calling function.\n",
        "Returns a value: The return statement specifies the value or values to pass back from the function. The value can be of any type, including integers, floats, strings, lists, dictionaries, and even other functions.\n",
        "Allows the output value to be used: The output value can be used when the function is called.\n",
        "\n",
        "Ques-5 What are iterators in python and how do they differ from iterables?\n",
        "Answer- An Iterable is basically an object that any user can iterate over. An Iterator is also an object that helps a user in interating over another object (that is iterable). We can generate an iterator when we pass the object to the iter() method.\n",
        "The main difference between an iterator and an iterable in python. An Iterable is an object that can be looped over. An Interator is an object that aids in looping over another object (which is iterable).\n",
        "\n",
        "Ques-6 Explain the concept of generators in python and how they are defined.\n",
        "Answer- A Generator is a function or expression that creates an iterator to process data one item at a time. Generators are useful for handling large or infinite streams of data.\n",
        "How Generators work:\n",
        "* Generators are defined using the yield statement in a function.\n",
        "* When a generator function is called, it returns a generator object.\n",
        "* The generator object can be iterated over to retrieve the values.\n",
        "* The generator's code only executes when next() is called on the generator object.\n",
        "\n",
        "\n",
        "Ques-7 What are the advantages of using generators over regular functions?\n",
        "Answer- Generator functions have several advantages over regular functions, including:\n",
        "Memory efficiency\n",
        "Generators only evaluate code when needed, so they don't need to store all values in memory at once. This makes them especially useful for large data sets.\n",
        "Lazy loading\n",
        "Generators can load data on demand, which can improve performance and reduce bandwidth usage.\n",
        "Infinite sequences\n",
        "Generators can create infinite sequences by pausing and resuming. This is useful for real-time data processing.\n",
        "Readability\n",
        "Generators can make code easier to read and understand by breaking up the iteration process into smaller chunks.\n",
        "Speed\n",
        "Generators can be faster than regular loops, especially for large data sets.\n",
        "Flexibility\n",
        "Generators offer a more flexible approach to computation than regular functions.\n",
        "Easy to implement\n",
        "Generators automatically implement iter(), next(), and StopIteration.\n",
        "\n",
        "Ques-8 What is a lambda function in python and when is it typically used?\n",
        "Answer- A lambda function in Python is a small, anonymous function that's used for short, simple tasks. They're often used when you need a quick function for a short time, and don't want to define a full function.\n",
        "When to use a lambda function\n",
        "Short, simple operations\n",
        "Lambda functions are ideal for simple operations that can be written in a single line.\n",
        "One-time operations\n",
        "Lambda functions are often used for one-time operations, where you don't need to name the function.\n",
        "Data science\n",
        "Lambda functions are useful in data science for creating data frames, manipulating series, and sorting data structures.\n",
        "\n",
        "Ques-9 Explain the purpose and usage of the 'map()' function in python.\n",
        "Answer- Map function executes a specified function for each of item of an iterable.\n",
        "#Sytax- map(func, *iterables)\n",
        "\n",
        "Make an iterator that computes the function using arguments from using each of the iterables. Stop when the shortest iterable is exhauted.\n",
        "\n",
        "Ques-10 Explain the difference between 'map()', 'reduce()', and 'filter()' functions in python?\n",
        "Answer- 'Map()' applies a function to each element in an array and returns an array of the results, 'Reduce()' applies a function to the array and returns a single output, 'Filter()' uses a boolean function to select certain elements from an array.\n",
        "\n"
      ],
      "metadata": {
        "id": "UQkypJhKWCBm"
      }
    },
    {
      "cell_type": "markdown",
      "source": [
        "# Practical Question\n"
      ],
      "metadata": {
        "id": "M71wS-0dxoOv"
      }
    },
    {
      "cell_type": "code",
      "source": [
        "#Ques-1  Write a Python function that takes a list of numbers as input and returns the sum of all even numbers in the list.\n",
        "\n",
        "def sum_of_even_numbers(numbers):\n",
        "    \"\"\"\n",
        "    Returns the sum of all even numbers in the given list.\n",
        "\n",
        "    Parameters:\n",
        "    numbers (list): A list of integers.\n",
        "\n",
        "    Returns:\n",
        "    int: The sum of all even numbers.\n",
        "    \"\"\"\n",
        "    even_sum = sum(num for num in numbers if num % 2 == 0)\n",
        "    return even_sum\n",
        "\n",
        "\n",
        "numbers = [1, 2, 3, 4, 5, 6,7 ,8 ,9, 10]\n",
        "print(\"Sum of even numbers:\", sum_of_even_numbers(numbers))"
      ],
      "metadata": {
        "id": "Ng1pjrfWzhDl",
        "colab": {
          "base_uri": "https://localhost:8080/"
        },
        "outputId": "2845593f-b01c-47c7-c4d5-c47f81c6db5f"
      },
      "execution_count": 5,
      "outputs": [
        {
          "output_type": "stream",
          "name": "stdout",
          "text": [
            "Sum of even numbers: 30\n"
          ]
        }
      ]
    },
    {
      "cell_type": "code",
      "source": [
        "#Ques-2 Create a Python function that accepts a string and returns the reverse of that string.\n",
        "def reverse_string(s):\n",
        "    \"\"\"\n",
        "    Returns the reverse of the given string.\n",
        "\n",
        "    Parameters:\n",
        "    s (str): The string to be reversed.\n",
        "\n",
        "    Returns:\n",
        "    str: The reversed string.\n",
        "    \"\"\"\n",
        "    return s[::-1]\n",
        "\n",
        "\n",
        "text = \"Hello, World!\"\n",
        "print(\"Reversed string:\", reverse_string(text))"
      ],
      "metadata": {
        "colab": {
          "base_uri": "https://localhost:8080/"
        },
        "id": "MvSOjrxWKnWa",
        "outputId": "5fec828f-6986-4a0a-88ee-c72a5cf4f6d7"
      },
      "execution_count": 6,
      "outputs": [
        {
          "output_type": "stream",
          "name": "stdout",
          "text": [
            "Reversed string: !dlroW ,olleH\n"
          ]
        }
      ]
    },
    {
      "cell_type": "code",
      "source": [
        "#Ques-3  Implement a Python function that takes a list of integers and returns a new list containing the squares of each number.\n",
        "def square_numbers(numbers):\n",
        "    \"\"\"\n",
        "    Returns a new list with the square of each number from the input list.\n",
        "\n",
        "    Parameters:\n",
        "    numbers (list): A list of integers.\n",
        "\n",
        "    Returns:\n",
        "    list: A list containing the square of each input number.\n",
        "    \"\"\"\n",
        "    return [num ** 2 for num in numbers]\n",
        "\n",
        "numbers = [1, 2, 3, 4, 5]\n",
        "print(\"Squared numbers:\", square_numbers(numbers))"
      ],
      "metadata": {
        "colab": {
          "base_uri": "https://localhost:8080/"
        },
        "id": "ue0MYXb7Rz2Q",
        "outputId": "de7bf1c5-cefa-4400-dc9b-06adb2d7f236"
      },
      "execution_count": 7,
      "outputs": [
        {
          "output_type": "stream",
          "name": "stdout",
          "text": [
            "Squared numbers: [1, 4, 9, 16, 25]\n"
          ]
        }
      ]
    },
    {
      "cell_type": "code",
      "source": [
        "#Ques-4 Write a Python function that checks if a given number is prime or not from 1 to 200.\n",
        "def is_prime(num):\n",
        "    \"\"\"\n",
        "    Checks if a number is prime.\n",
        "\n",
        "    Parameters:\n",
        "    num (int): The number to check (1 to 200).\n",
        "\n",
        "    Returns:\n",
        "    bool: True if the number is prime, False otherwise.\n",
        "    \"\"\"\n",
        "    if num <= 1:\n",
        "        return False\n",
        "    for i in range(2, int(num ** 0.5) + 1):\n",
        "        if num % i == 0:\n",
        "            return False\n",
        "    return True\n",
        "\n",
        "for n in range(1, 201):\n",
        "    if is_prime(n):\n",
        "        print(f\"{n} is a prime number.\")"
      ],
      "metadata": {
        "colab": {
          "base_uri": "https://localhost:8080/"
        },
        "id": "k2ntofKJSPEo",
        "outputId": "f71b4bd9-4cb6-4e19-ad2c-042bf2701c2b"
      },
      "execution_count": 8,
      "outputs": [
        {
          "output_type": "stream",
          "name": "stdout",
          "text": [
            "2 is a prime number.\n",
            "3 is a prime number.\n",
            "5 is a prime number.\n",
            "7 is a prime number.\n",
            "11 is a prime number.\n",
            "13 is a prime number.\n",
            "17 is a prime number.\n",
            "19 is a prime number.\n",
            "23 is a prime number.\n",
            "29 is a prime number.\n",
            "31 is a prime number.\n",
            "37 is a prime number.\n",
            "41 is a prime number.\n",
            "43 is a prime number.\n",
            "47 is a prime number.\n",
            "53 is a prime number.\n",
            "59 is a prime number.\n",
            "61 is a prime number.\n",
            "67 is a prime number.\n",
            "71 is a prime number.\n",
            "73 is a prime number.\n",
            "79 is a prime number.\n",
            "83 is a prime number.\n",
            "89 is a prime number.\n",
            "97 is a prime number.\n",
            "101 is a prime number.\n",
            "103 is a prime number.\n",
            "107 is a prime number.\n",
            "109 is a prime number.\n",
            "113 is a prime number.\n",
            "127 is a prime number.\n",
            "131 is a prime number.\n",
            "137 is a prime number.\n",
            "139 is a prime number.\n",
            "149 is a prime number.\n",
            "151 is a prime number.\n",
            "157 is a prime number.\n",
            "163 is a prime number.\n",
            "167 is a prime number.\n",
            "173 is a prime number.\n",
            "179 is a prime number.\n",
            "181 is a prime number.\n",
            "191 is a prime number.\n",
            "193 is a prime number.\n",
            "197 is a prime number.\n",
            "199 is a prime number.\n"
          ]
        }
      ]
    },
    {
      "cell_type": "code",
      "source": [
        "#Ques-5 . Create an iterator class in Python that generates the Fibonacci sequence up to a specified number of terms.\n",
        "class FibonacciIterator:\n",
        "    def __init__(self, n):\n",
        "        self.n = n  # Number of terms in the sequence\n",
        "        self.a, self.b = 0, 1  # Initialize the first two Fibonacci numbers\n",
        "        self.count = 0  # To keep track of the number of terms generated\n",
        "\n",
        "    def __iter__(self):\n",
        "        return self  # The class itself is the iterator\n",
        "\n",
        "    def __next__(self):\n",
        "        if self.count >= self.n:  # If we've generated 'n' terms, stop the iteration\n",
        "            raise StopIteration\n",
        "        else:\n",
        "            self.count += 1\n",
        "            self.a, self.b = self.b, self.a + self.b  # Generate the next Fibonacci number\n",
        "            return self.a\n",
        "\n",
        "\n",
        "fib = FibonacciIterator(10)  # Generate first 10 Fibonacci numbers\n",
        "for num in fib:\n",
        "    print(num)\n"
      ],
      "metadata": {
        "colab": {
          "base_uri": "https://localhost:8080/"
        },
        "id": "Gxk25oD1SpRK",
        "outputId": "24740b5b-dba2-4b3d-c316-483add658de3"
      },
      "execution_count": 11,
      "outputs": [
        {
          "output_type": "stream",
          "name": "stdout",
          "text": [
            "1\n",
            "1\n",
            "2\n",
            "3\n",
            "5\n",
            "8\n",
            "13\n",
            "21\n",
            "34\n",
            "55\n"
          ]
        }
      ]
    },
    {
      "cell_type": "code",
      "source": [
        "#Ques-6 Write a generator function in Python that yields the powers of 2 up to a given exponent.\n",
        "def powers_of_two(max_exponent):\n",
        "    \"\"\"\n",
        "    A generator that yields powers of 2 up to the given exponent.\n",
        "\n",
        "    Parameters:\n",
        "    max_exponent (int): The maximum exponent.\n",
        "\n",
        "    Yields:\n",
        "    int: Powers of 2 from 2^0 to 2^max_exponent.\n",
        "    \"\"\"\n",
        "    for exponent in range(max_exponent + 1):\n",
        "        yield 2 ** exponent\n",
        "\n",
        "\n",
        "for power in powers_of_two(5):\n",
        "    print(power, end=\" \")"
      ],
      "metadata": {
        "colab": {
          "base_uri": "https://localhost:8080/"
        },
        "id": "PFs6a3hAU5-p",
        "outputId": "87012e8d-96d2-421a-d00e-2b086098da9a"
      },
      "execution_count": 12,
      "outputs": [
        {
          "output_type": "stream",
          "name": "stdout",
          "text": [
            "1 2 4 8 16 32 "
          ]
        }
      ]
    },
    {
      "cell_type": "code",
      "source": [
        "#Ques-7 Implement a generator function that reads a file line by line and yields each line as a string.\n",
        "def read_file_lines(file_path):\n",
        "  \"\"\"\n",
        "  Reads a file line by line and yields each line as a string.\n",
        "\n",
        "  Args:\n",
        "    file_path: The path to the file to read.\n",
        "\n",
        "  Yields:\n",
        "    Each line of the file as a string.\n",
        "  \"\"\"\n",
        "  with open(file_path, 'r') as file:\n",
        "    for line in file:\n",
        "      yield line.strip()\n"
      ],
      "metadata": {
        "id": "lW4h5FAhVVVS"
      },
      "execution_count": 15,
      "outputs": []
    },
    {
      "cell_type": "code",
      "source": [
        "#Ques- 8. Use a lambda function in Python to sort a list of tuples based on the second element of each tuple.\n",
        "# List of tuples\n",
        "tuples_list = [(1, 4), (2, 1), (3, 3), (4, 2)]\n",
        "\n",
        "# Sorting the list based on the second element of each tuple using a lambda function\n",
        "sorted_list = sorted(tuples_list, key=lambda x: x[1])\n",
        "\n",
        "# Print the sorted list\n",
        "print(sorted_list)\n",
        "\n"
      ],
      "metadata": {
        "colab": {
          "base_uri": "https://localhost:8080/"
        },
        "id": "M2VZ84E0WKXr",
        "outputId": "b1546098-bf2a-434f-cd8b-81d9d17561b4"
      },
      "execution_count": 21,
      "outputs": [
        {
          "output_type": "stream",
          "name": "stdout",
          "text": [
            "[(2, 1), (4, 2), (3, 3), (1, 4)]\n"
          ]
        }
      ]
    },
    {
      "cell_type": "code",
      "source": [],
      "metadata": {
        "id": "OrVxWrz4W72P"
      },
      "execution_count": null,
      "outputs": []
    },
    {
      "cell_type": "code",
      "source": [
        "# Ques-9. Write a Python program that uses `map()` to convert a list of temperatures from Celsius to Fahrenheit.\n",
        "# List of temperatures in Celsius\n",
        "celsius_temperatures = [0, 20, 37, 100]\n",
        "\n",
        "# Function to convert Celsius to Fahrenheit\n",
        "def celsius_to_fahrenheit(celsius):\n",
        "    return (celsius * 9/5) + 32\n",
        "\n",
        "# Use map() to apply the conversion to each element in the list\n",
        "fahrenheit_temperatures = list(map(celsius_to_fahrenheit, celsius_temperatures))\n",
        "\n",
        "# Print the converted temperatures\n",
        "print(fahrenheit_temperatures)"
      ],
      "metadata": {
        "colab": {
          "base_uri": "https://localhost:8080/"
        },
        "id": "vtmUhD16Wirn",
        "outputId": "af344fac-f30d-4731-df9b-0a045379d362"
      },
      "execution_count": 17,
      "outputs": [
        {
          "output_type": "stream",
          "name": "stdout",
          "text": [
            "[32.0, 68.0, 98.6, 212.0]\n"
          ]
        }
      ]
    },
    {
      "cell_type": "code",
      "source": [
        "# Ques-10.Function to check if a character is a vowel\n",
        "def is_not_vowel(char):\n",
        "    vowels = \"aeiouAEIOU\"  # List of vowels (both lowercase and uppercase)\n",
        "    return char not in vowels\n",
        "\n",
        "# Given string\n",
        "input_string = \"Hello, World!\"\n",
        "\n",
        "# Use filter() to remove vowels\n",
        "filtered_string = ''.join(filter(is_not_vowel, input_string))\n",
        "\n",
        "# Print the result\n",
        "print(filtered_string)"
      ],
      "metadata": {
        "colab": {
          "base_uri": "https://localhost:8080/"
        },
        "id": "Rq7m6VBuWbvd",
        "outputId": "a398ad13-1a19-49b1-8ba4-aac36a67ce4a"
      },
      "execution_count": 18,
      "outputs": [
        {
          "output_type": "stream",
          "name": "stdout",
          "text": [
            "Hll, Wrld!\n"
          ]
        }
      ]
    },
    {
      "cell_type": "code",
      "source": [
        "# Ques-11.  Imagine an accounting routine used in a book shop. It works on a list with sublists, which look like this:\n",
        "\n",
        "\n",
        "orders = [\n",
        "    [34587, 'Learning Python, Mark Lutz', 4, 40.95],\n",
        "    [98762, 'Programming Python, Mark Lutz', 5, 56.80],\n",
        "    [77226, 'Head First Python, Paul Barry', 3, 32.95],\n",
        "    [88112, 'Einführung in Python3, Bernd Klein', 3, 24.99]\n",
        "]\n",
        "\n",
        "result = list(map(lambda order: (order[0], order[3] * order[2] + 10 if order[3] * order[2] < 100 else order[3] * order[2]), orders))\n",
        "\n",
        "print(result)"
      ],
      "metadata": {
        "colab": {
          "base_uri": "https://localhost:8080/"
        },
        "id": "JwNVT8vEW98F",
        "outputId": "0d3c1c60-53b6-47f2-9a24-dd8ecc3d9727"
      },
      "execution_count": 19,
      "outputs": [
        {
          "output_type": "stream",
          "name": "stdout",
          "text": [
            "[(34587, 163.8), (98762, 284.0), (77226, 108.85000000000001), (88112, 84.97)]\n"
          ]
        }
      ]
    }
  ]
}